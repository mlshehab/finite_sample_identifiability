{
 "cells": [
  {
   "cell_type": "code",
   "execution_count": 43,
   "id": "d41c2552",
   "metadata": {},
   "outputs": [],
   "source": [
    "import numpy as np\n",
    "import scipy.linalg"
   ]
  },
  {
   "cell_type": "code",
   "execution_count": 30,
   "id": "3ff7d80b",
   "metadata": {},
   "outputs": [],
   "source": [
    "A = np.random.randn(5,5)\n",
    "b = np.random.randn(5,1)\n",
    "\n",
    "sol = scipy.linalg.lstsq(A,b)\n",
    "x0 = sol[0]\n",
    "eps = 0.1\n",
    "\n",
    "res_ = []\n",
    "\n",
    "for i in range(1000):\n",
    "    delta_b = eps*np.random.random((5,1)) \n",
    "    sol_ = scipy.linalg.lstsq(A,b + delta_b)\n",
    "    res_.append(np.linalg.norm(x0 - sol_[0]))\n"
   ]
  },
  {
   "cell_type": "code",
   "execution_count": 31,
   "id": "33a9579f",
   "metadata": {},
   "outputs": [
    {
     "data": {
      "text/plain": [
       "(array([  7.,  42., 125., 206., 222., 202., 105.,  55.,  28.,   8.]),\n",
       " array([0.01617237, 0.03062045, 0.04506853, 0.05951662, 0.0739647 ,\n",
       "        0.08841279, 0.10286087, 0.11730895, 0.13175704, 0.14620512,\n",
       "        0.1606532 ]),\n",
       " <BarContainer object of 10 artists>)"
      ]
     },
     "execution_count": 31,
     "metadata": {},
     "output_type": "execute_result"
    },
    {
     "data": {
      "image/png": "[encoded data removed]",
      "text/plain": [
       "<Figure size 432x288 with 1 Axes>"
      ]
     },
     "metadata": {
      "needs_background": "light"
     },
     "output_type": "display_data"
    }
   ],
   "source": [
    "import matplotlib.pyplot as plt\n",
    "\n",
    "plt.hist(res_)"
   ]
  },
  {
   "cell_type": "code",
   "execution_count": 32,
   "id": "fd03e961",
   "metadata": {},
   "outputs": [
    {
     "data": {
      "text/plain": [
       "0.18197438733077778"
      ]
     },
     "execution_count": 32,
     "metadata": {},
     "output_type": "execute_result"
    }
   ],
   "source": [
    "def norm(A):\n",
    "    return np.linalg.norm(A)\n",
    "\n",
    "\n",
    "norm(np.linalg.pinv(A))*norm(delta_b)"
   ]
  },
  {
   "cell_type": "code",
   "execution_count": 47,
   "id": "1c6b68de",
   "metadata": {},
   "outputs": [
    {
     "data": {
      "text/plain": [
       "2.1951812286175443"
      ]
     },
     "execution_count": 47,
     "metadata": {},
     "output_type": "execute_result"
    }
   ],
   "source": [
    "norm(np.linalg.pinv(A))"
   ]
  },
  {
   "cell_type": "code",
   "execution_count": 48,
   "id": "7cbcccf6",
   "metadata": {},
   "outputs": [
    {
     "data": {
      "text/plain": [
       "0.22191419316478372"
      ]
     },
     "execution_count": 48,
     "metadata": {},
     "output_type": "execute_result"
    }
   ],
   "source": [
    "1/norm(A)"
   ]
  },
  {
   "cell_type": "code",
   "execution_count": 46,
   "id": "d6d79f29",
   "metadata": {},
   "outputs": [
    {
     "ename": "TypeError",
     "evalue": "loop of ufunc does not support argument 0 of type Hstack which has no callable conjugate method",
     "output_type": "error",
     "traceback": [
      "\u001b[1;31m---------------------------------------------------------------------------\u001b[0m",
      "\u001b[1;31mAttributeError\u001b[0m                            Traceback (most recent call last)",
      "\u001b[1;31mAttributeError\u001b[0m: 'Hstack' object has no attribute 'conjugate'",
      "\nThe above exception was the direct cause of the following exception:\n",
      "\u001b[1;31mTypeError\u001b[0m                                 Traceback (most recent call last)",
      "Input \u001b[1;32mIn [46]\u001b[0m, in \u001b[0;36m<cell line: 14>\u001b[1;34m()\u001b[0m\n\u001b[0;32m     10\u001b[0m E \u001b[38;5;241m=\u001b[39m np\u001b[38;5;241m.\u001b[39mvstack((I,I,I))\n\u001b[0;32m     12\u001b[0m Psi \u001b[38;5;241m=\u001b[39m cp\u001b[38;5;241m.\u001b[39mhstack([E,P])\n\u001b[1;32m---> 14\u001b[0m objective \u001b[38;5;241m=\u001b[39m cp\u001b[38;5;241m.\u001b[39mMinimize(cp\u001b[38;5;241m.\u001b[39mnorm(\u001b[43mnp\u001b[49m\u001b[38;5;241;43m.\u001b[39;49m\u001b[43mlinalg\u001b[49m\u001b[38;5;241;43m.\u001b[39;49m\u001b[43mpinv\u001b[49m\u001b[43m(\u001b[49m\u001b[43mPsi\u001b[49m\u001b[43m)\u001b[49m))\n\u001b[0;32m     16\u001b[0m constraints \u001b[38;5;241m=\u001b[39m [cp\u001b[38;5;241m.\u001b[39msum(P1, axis\u001b[38;5;241m=\u001b[39m\u001b[38;5;241m1\u001b[39m) \u001b[38;5;241m==\u001b[39m np\u001b[38;5;241m.\u001b[39mones(\u001b[38;5;241m3\u001b[39m), P1 \u001b[38;5;241m>\u001b[39m\u001b[38;5;241m=\u001b[39m \u001b[38;5;241m0\u001b[39m]\n\u001b[0;32m     17\u001b[0m constraints \u001b[38;5;241m+\u001b[39m\u001b[38;5;241m=\u001b[39m [cp\u001b[38;5;241m.\u001b[39msum(P2, axis\u001b[38;5;241m=\u001b[39m\u001b[38;5;241m1\u001b[39m) \u001b[38;5;241m==\u001b[39m np\u001b[38;5;241m.\u001b[39mones(\u001b[38;5;241m3\u001b[39m), P2 \u001b[38;5;241m>\u001b[39m\u001b[38;5;241m=\u001b[39m \u001b[38;5;241m0\u001b[39m]\n",
      "File \u001b[1;32m<__array_function__ internals>:5\u001b[0m, in \u001b[0;36mpinv\u001b[1;34m(*args, **kwargs)\u001b[0m\n",
      "File \u001b[1;32m~\\Anaconda3\\lib\\site-packages\\numpy\\linalg\\linalg.py:2001\u001b[0m, in \u001b[0;36mpinv\u001b[1;34m(a, rcond, hermitian)\u001b[0m\n\u001b[0;32m   1999\u001b[0m     res \u001b[38;5;241m=\u001b[39m empty(a\u001b[38;5;241m.\u001b[39mshape[:\u001b[38;5;241m-\u001b[39m\u001b[38;5;241m2\u001b[39m] \u001b[38;5;241m+\u001b[39m (n, m), dtype\u001b[38;5;241m=\u001b[39ma\u001b[38;5;241m.\u001b[39mdtype)\n\u001b[0;32m   2000\u001b[0m     \u001b[38;5;28;01mreturn\u001b[39;00m wrap(res)\n\u001b[1;32m-> 2001\u001b[0m a \u001b[38;5;241m=\u001b[39m \u001b[43ma\u001b[49m\u001b[38;5;241;43m.\u001b[39;49m\u001b[43mconjugate\u001b[49m\u001b[43m(\u001b[49m\u001b[43m)\u001b[49m\n\u001b[0;32m   2002\u001b[0m u, s, vt \u001b[38;5;241m=\u001b[39m svd(a, full_matrices\u001b[38;5;241m=\u001b[39m\u001b[38;5;28;01mFalse\u001b[39;00m, hermitian\u001b[38;5;241m=\u001b[39mhermitian)\n\u001b[0;32m   2004\u001b[0m \u001b[38;5;66;03m# discard small singular values\u001b[39;00m\n",
      "\u001b[1;31mTypeError\u001b[0m: loop of ufunc does not support argument 0 of type Hstack which has no callable conjugate method"
     ]
    }
   ],
   "source": [
    "import cvxpy as cp\n",
    "\n",
    "P1 = cp.Variable((3,3))\n",
    "P2 = cp.Variable((3,3))\n",
    "P3 = cp.Variable((3,3))\n",
    "P = cp.vstack([P1,P2,P3])\n",
    "\n",
    "\n",
    "I = np.eye(3)\n",
    "E = np.vstack((I,I,I))\n",
    "\n",
    "Psi = cp.hstack([E,P])\n",
    "\n",
    "objective = cp.Minimize(cp.norm(np.linalg.pinv(Psi)))\n",
    "\n",
    "constraints = [cp.sum(P1, axis=1) == np.ones(3), P1 >= 0]\n",
    "constraints += [cp.sum(P2, axis=1) == np.ones(3), P2 >= 0]\n",
    "constraints += [cp.sum(P3, axis=1) == np.ones(3), P3 >= 0]\n",
    "\n",
    "# Formulate and solve the problem\n",
    "problem = cp.Problem(objective, constraints)\n",
    "problem.solve()\n",
    "\n",
    "\n",
    "# Psi = cp.Variable(())"
   ]
  },
  {
   "cell_type": "code",
   "execution_count": null,
   "id": "8edc0a9c",
   "metadata": {},
   "outputs": [],
   "source": []
  },
  {
   "cell_type": "code",
   "execution_count": null,
   "id": "bc849e9f",
   "metadata": {},
   "outputs": [],
   "source": []
  },
  {
   "cell_type": "code",
   "execution_count": null,
   "id": "1ea65f5b",
   "metadata": {},
   "outputs": [],
   "source": []
  },
  {
   "cell_type": "code",
   "execution_count": null,
   "id": "1c7fc0a0",
   "metadata": {},
   "outputs": [],
   "source": []
  },
  {
   "cell_type": "code",
   "execution_count": null,
   "id": "31a2b145",
   "metadata": {},
   "outputs": [],
   "source": []
  },
  {
   "cell_type": "code",
   "execution_count": null,
   "id": "f8d1333e",
   "metadata": {},
   "outputs": [],
   "source": []
  }
 ],
 "metadata": {
  "kernelspec": {
   "display_name": "Python 3 (ipykernel)",
   "language": "python",
   "name": "python3"
  },
  "language_info": {
   "codemirror_mode": {
    "name": "ipython",
    "version": 3
   },
   "file_extension": ".py",
   "mimetype": "text/x-python",
   "name": "python",
   "nbconvert_exporter": "python",
   "pygments_lexer": "ipython3",
   "version": "3.9.12"
  }
 },
 "nbformat": 4,
 "nbformat_minor": 5
}
